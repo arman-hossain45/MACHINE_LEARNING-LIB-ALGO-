{
 "cells": [
  {
   "cell_type": "code",
   "execution_count": null,
   "id": "a3e6077e",
   "metadata": {},
   "outputs": [],
   "source": []
  },
  {
   "cell_type": "code",
   "execution_count": 1,
   "id": "421941e8",
   "metadata": {},
   "outputs": [
    {
     "name": "stdout",
     "output_type": "stream",
     "text": [
      "hello world \n"
     ]
    }
   ],
   "source": [
    "print('hello world ')"
   ]
  },
  {
   "cell_type": "code",
   "execution_count": 2,
   "id": "8eefce4d",
   "metadata": {},
   "outputs": [],
   "source": [
    "import numpy as np\n",
    "import pandas as pd"
   ]
  },
  {
   "cell_type": "code",
   "execution_count": 3,
   "id": "2224804f",
   "metadata": {},
   "outputs": [],
   "source": [
    "dict1={\n",
    "    \"name\":['harry','rohan','shawon'],\n",
    "    \"marks\":[92,34,24],\n",
    "    \"city\":['rampur','kolkata','new york',]\n",
    "}"
   ]
  },
  {
   "cell_type": "code",
   "execution_count": 4,
   "id": "a2cada56",
   "metadata": {},
   "outputs": [],
   "source": [
    "df=pd.DataFrame(dict1)\n",
    "#its use to basically analyze big data \n",
    "#it covert in data frame in "
   ]
  },
  {
   "cell_type": "code",
   "execution_count": 5,
   "id": "582ba05a",
   "metadata": {},
   "outputs": [
    {
     "data": {
      "text/html": [
       "<div>\n",
       "<style scoped>\n",
       "    .dataframe tbody tr th:only-of-type {\n",
       "        vertical-align: middle;\n",
       "    }\n",
       "\n",
       "    .dataframe tbody tr th {\n",
       "        vertical-align: top;\n",
       "    }\n",
       "\n",
       "    .dataframe thead th {\n",
       "        text-align: right;\n",
       "    }\n",
       "</style>\n",
       "<table border=\"1\" class=\"dataframe\">\n",
       "  <thead>\n",
       "    <tr style=\"text-align: right;\">\n",
       "      <th></th>\n",
       "      <th>name</th>\n",
       "      <th>marks</th>\n",
       "      <th>city</th>\n",
       "    </tr>\n",
       "  </thead>\n",
       "  <tbody>\n",
       "    <tr>\n",
       "      <th>0</th>\n",
       "      <td>harry</td>\n",
       "      <td>92</td>\n",
       "      <td>rampur</td>\n",
       "    </tr>\n",
       "    <tr>\n",
       "      <th>1</th>\n",
       "      <td>rohan</td>\n",
       "      <td>34</td>\n",
       "      <td>kolkata</td>\n",
       "    </tr>\n",
       "    <tr>\n",
       "      <th>2</th>\n",
       "      <td>shawon</td>\n",
       "      <td>24</td>\n",
       "      <td>new york</td>\n",
       "    </tr>\n",
       "  </tbody>\n",
       "</table>\n",
       "</div>"
      ],
      "text/plain": [
       "     name  marks      city\n",
       "0   harry     92    rampur\n",
       "1   rohan     34   kolkata\n",
       "2  shawon     24  new york"
      ]
     },
     "execution_count": 5,
     "metadata": {},
     "output_type": "execute_result"
    }
   ],
   "source": [
    "df"
   ]
  },
  {
   "cell_type": "code",
   "execution_count": 6,
   "id": "527950d6",
   "metadata": {},
   "outputs": [],
   "source": [
    "###covert in csv this data frame"
   ]
  },
  {
   "cell_type": "code",
   "execution_count": 7,
   "id": "ad75fd4c",
   "metadata": {},
   "outputs": [],
   "source": [
    "df.to_csv('friends.csv')\n",
    "#it create a excel shit in this data frame which is given on the index\n",
    "#with index and column give it \n",
    "#it also include index"
   ]
  },
  {
   "cell_type": "code",
   "execution_count": 8,
   "id": "c59bd7a1",
   "metadata": {},
   "outputs": [],
   "source": [
    "#we can see without index\n",
    "df.to_csv('friends_index_false.csv',index=False)"
   ]
  },
  {
   "cell_type": "code",
   "execution_count": 9,
   "id": "042b9b64",
   "metadata": {},
   "outputs": [
    {
     "data": {
      "text/html": [
       "<div>\n",
       "<style scoped>\n",
       "    .dataframe tbody tr th:only-of-type {\n",
       "        vertical-align: middle;\n",
       "    }\n",
       "\n",
       "    .dataframe tbody tr th {\n",
       "        vertical-align: top;\n",
       "    }\n",
       "\n",
       "    .dataframe thead th {\n",
       "        text-align: right;\n",
       "    }\n",
       "</style>\n",
       "<table border=\"1\" class=\"dataframe\">\n",
       "  <thead>\n",
       "    <tr style=\"text-align: right;\">\n",
       "      <th></th>\n",
       "      <th>name</th>\n",
       "      <th>marks</th>\n",
       "      <th>city</th>\n",
       "    </tr>\n",
       "  </thead>\n",
       "  <tbody>\n",
       "    <tr>\n",
       "      <th>0</th>\n",
       "      <td>harry</td>\n",
       "      <td>92</td>\n",
       "      <td>rampur</td>\n",
       "    </tr>\n",
       "    <tr>\n",
       "      <th>1</th>\n",
       "      <td>rohan</td>\n",
       "      <td>34</td>\n",
       "      <td>kolkata</td>\n",
       "    </tr>\n",
       "  </tbody>\n",
       "</table>\n",
       "</div>"
      ],
      "text/plain": [
       "    name  marks     city\n",
       "0  harry     92   rampur\n",
       "1  rohan     34  kolkata"
      ]
     },
     "execution_count": 9,
     "metadata": {},
     "output_type": "execute_result"
    }
   ],
   "source": [
    "#if the data is so big \n",
    "#if we want to see only first 2 row \n",
    "df.head(2)"
   ]
  },
  {
   "cell_type": "code",
   "execution_count": 10,
   "id": "bd6eb1a2",
   "metadata": {},
   "outputs": [
    {
     "data": {
      "text/html": [
       "<div>\n",
       "<style scoped>\n",
       "    .dataframe tbody tr th:only-of-type {\n",
       "        vertical-align: middle;\n",
       "    }\n",
       "\n",
       "    .dataframe tbody tr th {\n",
       "        vertical-align: top;\n",
       "    }\n",
       "\n",
       "    .dataframe thead th {\n",
       "        text-align: right;\n",
       "    }\n",
       "</style>\n",
       "<table border=\"1\" class=\"dataframe\">\n",
       "  <thead>\n",
       "    <tr style=\"text-align: right;\">\n",
       "      <th></th>\n",
       "      <th>name</th>\n",
       "      <th>marks</th>\n",
       "      <th>city</th>\n",
       "    </tr>\n",
       "  </thead>\n",
       "  <tbody>\n",
       "    <tr>\n",
       "      <th>1</th>\n",
       "      <td>rohan</td>\n",
       "      <td>34</td>\n",
       "      <td>kolkata</td>\n",
       "    </tr>\n",
       "    <tr>\n",
       "      <th>2</th>\n",
       "      <td>shawon</td>\n",
       "      <td>24</td>\n",
       "      <td>new york</td>\n",
       "    </tr>\n",
       "  </tbody>\n",
       "</table>\n",
       "</div>"
      ],
      "text/plain": [
       "     name  marks      city\n",
       "1   rohan     34   kolkata\n",
       "2  shawon     24  new york"
      ]
     },
     "execution_count": 10,
     "metadata": {},
     "output_type": "execute_result"
    }
   ],
   "source": [
    "#if we want to see 2nd two row\n",
    "df.tail(2)"
   ]
  },
  {
   "cell_type": "code",
   "execution_count": null,
   "id": "44210f26",
   "metadata": {},
   "outputs": [
    {
     "data": {
      "text/html": [
       "<div>\n",
       "<style scoped>\n",
       "    .dataframe tbody tr th:only-of-type {\n",
       "        vertical-align: middle;\n",
       "    }\n",
       "\n",
       "    .dataframe tbody tr th {\n",
       "        vertical-align: top;\n",
       "    }\n",
       "\n",
       "    .dataframe thead th {\n",
       "        text-align: right;\n",
       "    }\n",
       "</style>\n",
       "<table border=\"1\" class=\"dataframe\">\n",
       "  <thead>\n",
       "    <tr style=\"text-align: right;\">\n",
       "      <th></th>\n",
       "      <th>marks</th>\n",
       "    </tr>\n",
       "  </thead>\n",
       "  <tbody>\n",
       "    <tr>\n",
       "      <th>count</th>\n",
       "      <td>3.00000</td>\n",
       "    </tr>\n",
       "    <tr>\n",
       "      <th>mean</th>\n",
       "      <td>50.00000</td>\n",
       "    </tr>\n",
       "    <tr>\n",
       "      <th>std</th>\n",
       "      <td>36.71512</td>\n",
       "    </tr>\n",
       "    <tr>\n",
       "      <th>min</th>\n",
       "      <td>24.00000</td>\n",
       "    </tr>\n",
       "    <tr>\n",
       "      <th>25%</th>\n",
       "      <td>29.00000</td>\n",
       "    </tr>\n",
       "    <tr>\n",
       "      <th>50%</th>\n",
       "      <td>34.00000</td>\n",
       "    </tr>\n",
       "    <tr>\n",
       "      <th>75%</th>\n",
       "      <td>63.00000</td>\n",
       "    </tr>\n",
       "    <tr>\n",
       "      <th>max</th>\n",
       "      <td>92.00000</td>\n",
       "    </tr>\n",
       "  </tbody>\n",
       "</table>\n",
       "</div>"
      ],
      "text/plain": [
       "          marks\n",
       "count   3.00000\n",
       "mean   50.00000\n",
       "std    36.71512\n",
       "min    24.00000\n",
       "25%    29.00000\n",
       "50%    34.00000\n",
       "75%    63.00000\n",
       "max    92.00000"
      ]
     },
     "execution_count": 11,
     "metadata": {},
     "output_type": "execute_result"
    }
   ],
   "source": [
    "df.describe()#details tells us about this csv"
   ]
  },
  {
   "cell_type": "code",
   "execution_count": null,
   "id": "60bd63b8",
   "metadata": {},
   "outputs": [
    {
     "data": {
      "text/html": [
       "<div>\n",
       "<style scoped>\n",
       "    .dataframe tbody tr th:only-of-type {\n",
       "        vertical-align: middle;\n",
       "    }\n",
       "\n",
       "    .dataframe tbody tr th {\n",
       "        vertical-align: top;\n",
       "    }\n",
       "\n",
       "    .dataframe thead th {\n",
       "        text-align: right;\n",
       "    }\n",
       "</style>\n",
       "<table border=\"1\" class=\"dataframe\">\n",
       "  <thead>\n",
       "    <tr style=\"text-align: right;\">\n",
       "      <th></th>\n",
       "      <th>Unnamed: 0</th>\n",
       "      <th>location</th>\n",
       "      <th>city</th>\n",
       "      <th>country</th>\n",
       "    </tr>\n",
       "  </thead>\n",
       "  <tbody>\n",
       "    <tr>\n",
       "      <th>0</th>\n",
       "      <td>0</td>\n",
       "      <td>gazipur</td>\n",
       "      <td>Dhaka</td>\n",
       "      <td>Bangladesh</td>\n",
       "    </tr>\n",
       "    <tr>\n",
       "      <th>1</th>\n",
       "      <td>1</td>\n",
       "      <td>newmarket</td>\n",
       "      <td>nilkhet</td>\n",
       "      <td>dhaka</td>\n",
       "    </tr>\n",
       "    <tr>\n",
       "      <th>2</th>\n",
       "      <td>2</td>\n",
       "      <td>uttara</td>\n",
       "      <td>azompur</td>\n",
       "      <td>dhaka</td>\n",
       "    </tr>\n",
       "  </tbody>\n",
       "</table>\n",
       "</div>"
      ],
      "text/plain": [
       "   Unnamed: 0   location     city     country\n",
       "0           0    gazipur    Dhaka  Bangladesh\n",
       "1           1  newmarket  nilkhet       dhaka\n",
       "2           2     uttara  azompur       dhaka"
      ]
     },
     "execution_count": 12,
     "metadata": {},
     "output_type": "execute_result"
    }
   ],
   "source": [
    "arman=pd.read_csv('arman.csv')#creat a new csv file which is read in \n",
    "#this method\n",
    "arman"
   ]
  },
  {
   "cell_type": "code",
   "execution_count": 22,
   "id": "2b12c8ad",
   "metadata": {},
   "outputs": [
    {
     "data": {
      "text/plain": [
       "0      gazipur\n",
       "1    newmarket\n",
       "2       uttara\n",
       "Name: location, dtype: object"
      ]
     },
     "execution_count": 22,
     "metadata": {},
     "output_type": "execute_result"
    }
   ],
   "source": [
    "arman['location']#we only see the location"
   ]
  },
  {
   "cell_type": "code",
   "execution_count": 23,
   "id": "9a4f9450",
   "metadata": {},
   "outputs": [
    {
     "name": "stderr",
     "output_type": "stream",
     "text": [
      "C:\\Users\\Lenovo\\AppData\\Local\\Temp\\ipykernel_15552\\2052056910.py:2: FutureWarning: ChainedAssignmentError: behaviour will change in pandas 3.0!\n",
      "You are setting values through chained assignment. Currently this works in certain cases, but when using Copy-on-Write (which will become the default behaviour in pandas 3.0) this will never work to update the original DataFrame or Series, because the intermediate object on which we are setting values will behave as a copy.\n",
      "A typical example is when you are setting values in a column of a DataFrame, like:\n",
      "\n",
      "df[\"col\"][row_indexer] = value\n",
      "\n",
      "Use `df.loc[row_indexer, \"col\"] = values` instead, to perform the assignment in a single step and ensure this keeps updating the original `df`.\n",
      "\n",
      "See the caveats in the documentation: https://pandas.pydata.org/pandas-docs/stable/user_guide/indexing.html#returning-a-view-versus-a-copy\n",
      "\n",
      "  arman['city'][0]='usa'\n",
      "C:\\Users\\Lenovo\\AppData\\Local\\Temp\\ipykernel_15552\\2052056910.py:2: SettingWithCopyWarning: \n",
      "A value is trying to be set on a copy of a slice from a DataFrame\n",
      "\n",
      "See the caveats in the documentation: https://pandas.pydata.org/pandas-docs/stable/user_guide/indexing.html#returning-a-view-versus-a-copy\n",
      "  arman['city'][0]='usa'\n"
     ]
    },
    {
     "data": {
      "text/html": [
       "<div>\n",
       "<style scoped>\n",
       "    .dataframe tbody tr th:only-of-type {\n",
       "        vertical-align: middle;\n",
       "    }\n",
       "\n",
       "    .dataframe tbody tr th {\n",
       "        vertical-align: top;\n",
       "    }\n",
       "\n",
       "    .dataframe thead th {\n",
       "        text-align: right;\n",
       "    }\n",
       "</style>\n",
       "<table border=\"1\" class=\"dataframe\">\n",
       "  <thead>\n",
       "    <tr style=\"text-align: right;\">\n",
       "      <th></th>\n",
       "      <th>Unnamed: 0</th>\n",
       "      <th>location</th>\n",
       "      <th>city</th>\n",
       "      <th>country</th>\n",
       "    </tr>\n",
       "  </thead>\n",
       "  <tbody>\n",
       "    <tr>\n",
       "      <th>0</th>\n",
       "      <td>0</td>\n",
       "      <td>gazipur</td>\n",
       "      <td>usa</td>\n",
       "      <td>Bangladesh</td>\n",
       "    </tr>\n",
       "    <tr>\n",
       "      <th>1</th>\n",
       "      <td>1</td>\n",
       "      <td>newmarket</td>\n",
       "      <td>nilkhet</td>\n",
       "      <td>dhaka</td>\n",
       "    </tr>\n",
       "    <tr>\n",
       "      <th>2</th>\n",
       "      <td>2</td>\n",
       "      <td>uttara</td>\n",
       "      <td>azompur</td>\n",
       "      <td>dhaka</td>\n",
       "    </tr>\n",
       "  </tbody>\n",
       "</table>\n",
       "</div>"
      ],
      "text/plain": [
       "   Unnamed: 0   location     city     country\n",
       "0           0    gazipur      usa  Bangladesh\n",
       "1           1  newmarket  nilkhet       dhaka\n",
       "2           2     uttara  azompur       dhaka"
      ]
     },
     "execution_count": 23,
     "metadata": {},
     "output_type": "execute_result"
    }
   ],
   "source": [
    "#change specific  value in this \n",
    "arman['city'][0]='usa'\n",
    "arman"
   ]
  },
  {
   "cell_type": "code",
   "execution_count": 25,
   "id": "14c0bb9c",
   "metadata": {},
   "outputs": [],
   "source": [
    "#in this above code 0 index we change the city name \n",
    "#Dhaka to usa we want to save this modify in arman.csv file \n",
    "arman.to_csv('arman.csv')"
   ]
  },
  {
   "cell_type": "code",
   "execution_count": null,
   "id": "d8cd4614",
   "metadata": {},
   "outputs": [],
   "source": [
    "#series and dataframe\n",
    "ser=pd.Series(np.random.rand(34))\n",
    "#it gives us a series 0 to 34\n"
   ]
  },
  {
   "cell_type": "code",
   "execution_count": 31,
   "id": "bddadada",
   "metadata": {},
   "outputs": [
    {
     "data": {
      "text/plain": [
       "0     0.066683\n",
       "1     0.741140\n",
       "2     0.440712\n",
       "3     0.212957\n",
       "4     0.260631\n",
       "5     0.759343\n",
       "6     0.937209\n",
       "7     0.262909\n",
       "8     0.927862\n",
       "9     0.877385\n",
       "10    0.593151\n",
       "11    0.572348\n",
       "12    0.329603\n",
       "13    0.978687\n",
       "14    0.730642\n",
       "15    0.534890\n",
       "16    0.024995\n",
       "17    0.789259\n",
       "18    0.647249\n",
       "19    0.955493\n",
       "20    0.587553\n",
       "21    0.741560\n",
       "22    0.514230\n",
       "23    0.981285\n",
       "24    0.036875\n",
       "25    0.309264\n",
       "26    0.988069\n",
       "27    0.843761\n",
       "28    0.919918\n",
       "29    0.961953\n",
       "30    0.542067\n",
       "31    0.250980\n",
       "32    0.395966\n",
       "33    0.572670\n",
       "dtype: float64"
      ]
     },
     "execution_count": 31,
     "metadata": {},
     "output_type": "execute_result"
    }
   ],
   "source": [
    "ser"
   ]
  },
  {
   "cell_type": "code",
   "execution_count": 33,
   "id": "14de1bde",
   "metadata": {},
   "outputs": [
    {
     "data": {
      "text/plain": [
       "pandas.core.series.Series"
      ]
     },
     "execution_count": 33,
     "metadata": {},
     "output_type": "execute_result"
    }
   ],
   "source": [
    "type(ser)#its a series \n",
    "#its a data structure in pandas  "
   ]
  },
  {
   "cell_type": "code",
   "execution_count": 35,
   "id": "122cd8f2",
   "metadata": {},
   "outputs": [
    {
     "data": {
      "text/html": [
       "<div>\n",
       "<style scoped>\n",
       "    .dataframe tbody tr th:only-of-type {\n",
       "        vertical-align: middle;\n",
       "    }\n",
       "\n",
       "    .dataframe tbody tr th {\n",
       "        vertical-align: top;\n",
       "    }\n",
       "\n",
       "    .dataframe thead th {\n",
       "        text-align: right;\n",
       "    }\n",
       "</style>\n",
       "<table border=\"1\" class=\"dataframe\">\n",
       "  <thead>\n",
       "    <tr style=\"text-align: right;\">\n",
       "      <th></th>\n",
       "      <th>0</th>\n",
       "      <th>1</th>\n",
       "      <th>2</th>\n",
       "      <th>3</th>\n",
       "      <th>4</th>\n",
       "    </tr>\n",
       "  </thead>\n",
       "  <tbody>\n",
       "    <tr>\n",
       "      <th>0</th>\n",
       "      <td>0.431045</td>\n",
       "      <td>0.977113</td>\n",
       "      <td>0.618346</td>\n",
       "      <td>0.280718</td>\n",
       "      <td>0.795835</td>\n",
       "    </tr>\n",
       "    <tr>\n",
       "      <th>1</th>\n",
       "      <td>0.150578</td>\n",
       "      <td>0.150138</td>\n",
       "      <td>0.704924</td>\n",
       "      <td>0.530115</td>\n",
       "      <td>0.174036</td>\n",
       "    </tr>\n",
       "    <tr>\n",
       "      <th>2</th>\n",
       "      <td>0.802114</td>\n",
       "      <td>0.893402</td>\n",
       "      <td>0.602193</td>\n",
       "      <td>0.891469</td>\n",
       "      <td>0.283796</td>\n",
       "    </tr>\n",
       "    <tr>\n",
       "      <th>3</th>\n",
       "      <td>0.130650</td>\n",
       "      <td>0.716312</td>\n",
       "      <td>0.796403</td>\n",
       "      <td>0.105497</td>\n",
       "      <td>0.713780</td>\n",
       "    </tr>\n",
       "    <tr>\n",
       "      <th>4</th>\n",
       "      <td>0.023335</td>\n",
       "      <td>0.975231</td>\n",
       "      <td>0.572050</td>\n",
       "      <td>0.442337</td>\n",
       "      <td>0.712340</td>\n",
       "    </tr>\n",
       "    <tr>\n",
       "      <th>...</th>\n",
       "      <td>...</td>\n",
       "      <td>...</td>\n",
       "      <td>...</td>\n",
       "      <td>...</td>\n",
       "      <td>...</td>\n",
       "    </tr>\n",
       "    <tr>\n",
       "      <th>329</th>\n",
       "      <td>0.085289</td>\n",
       "      <td>0.846622</td>\n",
       "      <td>0.573262</td>\n",
       "      <td>0.507820</td>\n",
       "      <td>0.568131</td>\n",
       "    </tr>\n",
       "    <tr>\n",
       "      <th>330</th>\n",
       "      <td>0.369228</td>\n",
       "      <td>0.172142</td>\n",
       "      <td>0.806732</td>\n",
       "      <td>0.922176</td>\n",
       "      <td>0.545956</td>\n",
       "    </tr>\n",
       "    <tr>\n",
       "      <th>331</th>\n",
       "      <td>0.331504</td>\n",
       "      <td>0.241101</td>\n",
       "      <td>0.581982</td>\n",
       "      <td>0.192399</td>\n",
       "      <td>0.711254</td>\n",
       "    </tr>\n",
       "    <tr>\n",
       "      <th>332</th>\n",
       "      <td>0.504943</td>\n",
       "      <td>0.050377</td>\n",
       "      <td>0.479013</td>\n",
       "      <td>0.044331</td>\n",
       "      <td>0.659212</td>\n",
       "    </tr>\n",
       "    <tr>\n",
       "      <th>333</th>\n",
       "      <td>0.755485</td>\n",
       "      <td>0.796496</td>\n",
       "      <td>0.846857</td>\n",
       "      <td>0.785051</td>\n",
       "      <td>0.492749</td>\n",
       "    </tr>\n",
       "  </tbody>\n",
       "</table>\n",
       "<p>334 rows × 5 columns</p>\n",
       "</div>"
      ],
      "text/plain": [
       "            0         1         2         3         4\n",
       "0    0.431045  0.977113  0.618346  0.280718  0.795835\n",
       "1    0.150578  0.150138  0.704924  0.530115  0.174036\n",
       "2    0.802114  0.893402  0.602193  0.891469  0.283796\n",
       "3    0.130650  0.716312  0.796403  0.105497  0.713780\n",
       "4    0.023335  0.975231  0.572050  0.442337  0.712340\n",
       "..        ...       ...       ...       ...       ...\n",
       "329  0.085289  0.846622  0.573262  0.507820  0.568131\n",
       "330  0.369228  0.172142  0.806732  0.922176  0.545956\n",
       "331  0.331504  0.241101  0.581982  0.192399  0.711254\n",
       "332  0.504943  0.050377  0.479013  0.044331  0.659212\n",
       "333  0.755485  0.796496  0.846857  0.785051  0.492749\n",
       "\n",
       "[334 rows x 5 columns]"
      ]
     },
     "execution_count": 35,
     "metadata": {},
     "output_type": "execute_result"
    }
   ],
   "source": [
    "#create a dataframe \n",
    "newdf=pd.DataFrame(np.random.rand(334,5),index=np.arange(334))\n",
    "newdf.head()\n",
    "#without head()it print all dataframe which has 334 rows and 5 column\n",
    "newdf"
   ]
  },
  {
   "cell_type": "code",
   "execution_count": 36,
   "id": "29dea93d",
   "metadata": {},
   "outputs": [
    {
     "data": {
      "text/plain": [
       "pandas.core.frame.DataFrame"
      ]
     },
     "execution_count": 36,
     "metadata": {},
     "output_type": "execute_result"
    }
   ],
   "source": [
    "type(newdf)"
   ]
  },
  {
   "cell_type": "code",
   "execution_count": 37,
   "id": "6c6d032f",
   "metadata": {},
   "outputs": [
    {
     "data": {
      "text/html": [
       "<div>\n",
       "<style scoped>\n",
       "    .dataframe tbody tr th:only-of-type {\n",
       "        vertical-align: middle;\n",
       "    }\n",
       "\n",
       "    .dataframe tbody tr th {\n",
       "        vertical-align: top;\n",
       "    }\n",
       "\n",
       "    .dataframe thead th {\n",
       "        text-align: right;\n",
       "    }\n",
       "</style>\n",
       "<table border=\"1\" class=\"dataframe\">\n",
       "  <thead>\n",
       "    <tr style=\"text-align: right;\">\n",
       "      <th></th>\n",
       "      <th>0</th>\n",
       "      <th>1</th>\n",
       "      <th>2</th>\n",
       "      <th>3</th>\n",
       "      <th>4</th>\n",
       "    </tr>\n",
       "  </thead>\n",
       "  <tbody>\n",
       "    <tr>\n",
       "      <th>count</th>\n",
       "      <td>334.000000</td>\n",
       "      <td>334.000000</td>\n",
       "      <td>334.000000</td>\n",
       "      <td>334.000000</td>\n",
       "      <td>334.000000</td>\n",
       "    </tr>\n",
       "    <tr>\n",
       "      <th>mean</th>\n",
       "      <td>0.495642</td>\n",
       "      <td>0.472705</td>\n",
       "      <td>0.478670</td>\n",
       "      <td>0.478566</td>\n",
       "      <td>0.471093</td>\n",
       "    </tr>\n",
       "    <tr>\n",
       "      <th>std</th>\n",
       "      <td>0.287472</td>\n",
       "      <td>0.278062</td>\n",
       "      <td>0.290120</td>\n",
       "      <td>0.296357</td>\n",
       "      <td>0.284162</td>\n",
       "    </tr>\n",
       "    <tr>\n",
       "      <th>min</th>\n",
       "      <td>0.000378</td>\n",
       "      <td>0.003741</td>\n",
       "      <td>0.000094</td>\n",
       "      <td>0.006666</td>\n",
       "      <td>0.001970</td>\n",
       "    </tr>\n",
       "    <tr>\n",
       "      <th>25%</th>\n",
       "      <td>0.253431</td>\n",
       "      <td>0.236282</td>\n",
       "      <td>0.239828</td>\n",
       "      <td>0.222948</td>\n",
       "      <td>0.222752</td>\n",
       "    </tr>\n",
       "    <tr>\n",
       "      <th>50%</th>\n",
       "      <td>0.485639</td>\n",
       "      <td>0.456151</td>\n",
       "      <td>0.447201</td>\n",
       "      <td>0.469818</td>\n",
       "      <td>0.464851</td>\n",
       "    </tr>\n",
       "    <tr>\n",
       "      <th>75%</th>\n",
       "      <td>0.752068</td>\n",
       "      <td>0.698928</td>\n",
       "      <td>0.729373</td>\n",
       "      <td>0.737440</td>\n",
       "      <td>0.712069</td>\n",
       "    </tr>\n",
       "    <tr>\n",
       "      <th>max</th>\n",
       "      <td>0.997177</td>\n",
       "      <td>0.999262</td>\n",
       "      <td>0.993653</td>\n",
       "      <td>0.996797</td>\n",
       "      <td>0.999369</td>\n",
       "    </tr>\n",
       "  </tbody>\n",
       "</table>\n",
       "</div>"
      ],
      "text/plain": [
       "                0           1           2           3           4\n",
       "count  334.000000  334.000000  334.000000  334.000000  334.000000\n",
       "mean     0.495642    0.472705    0.478670    0.478566    0.471093\n",
       "std      0.287472    0.278062    0.290120    0.296357    0.284162\n",
       "min      0.000378    0.003741    0.000094    0.006666    0.001970\n",
       "25%      0.253431    0.236282    0.239828    0.222948    0.222752\n",
       "50%      0.485639    0.456151    0.447201    0.469818    0.464851\n",
       "75%      0.752068    0.698928    0.729373    0.737440    0.712069\n",
       "max      0.997177    0.999262    0.993653    0.996797    0.999369"
      ]
     },
     "execution_count": 37,
     "metadata": {},
     "output_type": "execute_result"
    }
   ],
   "source": [
    "newdf.describe()"
   ]
  },
  {
   "cell_type": "code",
   "execution_count": 38,
   "id": "2cd8eeb3",
   "metadata": {},
   "outputs": [
    {
     "data": {
      "text/plain": [
       "0    float64\n",
       "1    float64\n",
       "2    float64\n",
       "3    float64\n",
       "4    float64\n",
       "dtype: object"
      ]
     },
     "execution_count": 38,
     "metadata": {},
     "output_type": "execute_result"
    }
   ],
   "source": [
    "newdf.dtypes"
   ]
  },
  {
   "cell_type": "code",
   "execution_count": 39,
   "id": "398ca8fd",
   "metadata": {},
   "outputs": [
    {
     "data": {
      "text/html": [
       "<div>\n",
       "<style scoped>\n",
       "    .dataframe tbody tr th:only-of-type {\n",
       "        vertical-align: middle;\n",
       "    }\n",
       "\n",
       "    .dataframe tbody tr th {\n",
       "        vertical-align: top;\n",
       "    }\n",
       "\n",
       "    .dataframe thead th {\n",
       "        text-align: right;\n",
       "    }\n",
       "</style>\n",
       "<table border=\"1\" class=\"dataframe\">\n",
       "  <thead>\n",
       "    <tr style=\"text-align: right;\">\n",
       "      <th></th>\n",
       "      <th>0</th>\n",
       "      <th>1</th>\n",
       "      <th>2</th>\n",
       "      <th>3</th>\n",
       "      <th>4</th>\n",
       "    </tr>\n",
       "  </thead>\n",
       "  <tbody>\n",
       "    <tr>\n",
       "      <th>0</th>\n",
       "      <td>0.431045</td>\n",
       "      <td>0.977113</td>\n",
       "      <td>0.618346</td>\n",
       "      <td>0.280718</td>\n",
       "      <td>0.795835</td>\n",
       "    </tr>\n",
       "    <tr>\n",
       "      <th>1</th>\n",
       "      <td>0.150578</td>\n",
       "      <td>0.150138</td>\n",
       "      <td>0.704924</td>\n",
       "      <td>0.530115</td>\n",
       "      <td>0.174036</td>\n",
       "    </tr>\n",
       "    <tr>\n",
       "      <th>2</th>\n",
       "      <td>0.802114</td>\n",
       "      <td>0.893402</td>\n",
       "      <td>0.602193</td>\n",
       "      <td>0.891469</td>\n",
       "      <td>0.283796</td>\n",
       "    </tr>\n",
       "    <tr>\n",
       "      <th>3</th>\n",
       "      <td>0.130650</td>\n",
       "      <td>0.716312</td>\n",
       "      <td>0.796403</td>\n",
       "      <td>0.105497</td>\n",
       "      <td>0.713780</td>\n",
       "    </tr>\n",
       "    <tr>\n",
       "      <th>4</th>\n",
       "      <td>0.023335</td>\n",
       "      <td>0.975231</td>\n",
       "      <td>0.572050</td>\n",
       "      <td>0.442337</td>\n",
       "      <td>0.712340</td>\n",
       "    </tr>\n",
       "  </tbody>\n",
       "</table>\n",
       "</div>"
      ],
      "text/plain": [
       "          0         1         2         3         4\n",
       "0  0.431045  0.977113  0.618346  0.280718  0.795835\n",
       "1  0.150578  0.150138  0.704924  0.530115  0.174036\n",
       "2  0.802114  0.893402  0.602193  0.891469  0.283796\n",
       "3  0.130650  0.716312  0.796403  0.105497  0.713780\n",
       "4  0.023335  0.975231  0.572050  0.442337  0.712340"
      ]
     },
     "execution_count": 39,
     "metadata": {},
     "output_type": "execute_result"
    }
   ],
   "source": [
    "newdf.head()"
   ]
  }
 ],
 "metadata": {
  "kernelspec": {
   "display_name": "Python 3",
   "language": "python",
   "name": "python3"
  },
  "language_info": {
   "codemirror_mode": {
    "name": "ipython",
    "version": 3
   },
   "file_extension": ".py",
   "mimetype": "text/x-python",
   "name": "python",
   "nbconvert_exporter": "python",
   "pygments_lexer": "ipython3",
   "version": "3.13.7"
  }
 },
 "nbformat": 4,
 "nbformat_minor": 5
}
